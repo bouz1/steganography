{
 "cells": [
  {
   "cell_type": "markdown",
   "id": "ea8448aa-1149-459a-ab7c-6396b0b62e15",
   "metadata": {},
   "source": [
    "# Introduction"
   ]
  },
  {
   "cell_type": "markdown",
   "id": "4200d914-9fda-4d3c-b1b7-894b94cf5124",
   "metadata": {},
   "source": [
    "I created this package to embed a data file into a image file by steganography technique.\n",
    "<br>\n",
    "The package use sha512(key) to encrypt data before embedded it in the image. \n",
    "<br> \n",
    "This package same the data file in the LSB of the color bytes, so the average modification of the pixel is around 1/128=0.78%, so is hard to detect this modification by necked eye. \n",
    "<br> \n",
    "The size of the image before and after data embedding is almost the same. and this package embed the data, the file name and its extension to be extracted correctly"
   ]
  },
  {
   "cell_type": "markdown",
   "id": "77eff6be-563a-4b31-9241-d0b9eea59a01",
   "metadata": {},
   "source": [
    "**The package use the below libraries:**\n",
    " <br>hashlib, imageio, numpy, os, re"
   ]
  },
  {
   "cell_type": "markdown",
   "id": "19f76f0e-4a90-482c-8a63-9905bb05056c",
   "metadata": {},
   "source": [
    "# Installation"
   ]
  },
  {
   "cell_type": "markdown",
   "id": "07035d5b-699c-4086-9de5-4d8f58588490",
   "metadata": {},
   "source": [
    "You can install the package by the pip command below"
   ]
  },
  {
   "cell_type": "markdown",
   "id": "17157885-5a89-400e-8e61-139745067b1d",
   "metadata": {},
   "source": [
    "pip install steganograph==0.0.10"
   ]
  },
  {
   "cell_type": "markdown",
   "id": "e9653903-949e-4986-81b3-0383e41cc16b",
   "metadata": {},
   "source": [
    "# How to use the package"
   ]
  },
  {
   "cell_type": "markdown",
   "id": "99d31b4b-afb0-402a-a7c1-bace184f05fa",
   "metadata": {},
   "source": [
    "### Import libraries"
   ]
  },
  {
   "cell_type": "code",
   "execution_count": 1,
   "id": "7e4a0059-6aff-41fe-9821-1ee8b99661a7",
   "metadata": {},
   "outputs": [],
   "source": [
    "import imageio.v3 as iio\n",
    "import numpy as np"
   ]
  },
  {
   "cell_type": "code",
   "execution_count": 2,
   "id": "d8546a26-7bef-46ee-8d35-5a2cefc79601",
   "metadata": {},
   "outputs": [],
   "source": [
    "from steganograph import *"
   ]
  },
  {
   "cell_type": "markdown",
   "id": "d63fd64a-291e-4ccc-979d-23ed271a8b89",
   "metadata": {},
   "source": [
    "### Test embedding and extract a text file into an image."
   ]
  },
  {
   "cell_type": "markdown",
   "id": "30e0c135-8015-47b1-a12c-4aaff3941925",
   "metadata": {},
   "source": [
    "Path of the files and the key of cryptography"
   ]
  },
  {
   "cell_type": "code",
   "execution_count": 3,
   "id": "a7d9a1f7-d1d7-439b-967a-6a4be37dc0dd",
   "metadata": {},
   "outputs": [],
   "source": [
    "img_path = r'in/image_in.png'\n",
    "img_path_out = r'out/image_out_txt.png'\n",
    "file_path = r'in/Test_txt_file.txt'\n",
    "file_folder_out = 'out/'\n",
    "key = 'Test*123'"
   ]
  },
  {
   "cell_type": "markdown",
   "id": "9f4d8736-34d8-4a2d-868a-2a836b66c338",
   "metadata": {},
   "source": [
    "Embed data in the image"
   ]
  },
  {
   "cell_type": "code",
   "execution_count": 4,
   "id": "5f098693-8b9d-4b31-b962-70161b1783f0",
   "metadata": {},
   "outputs": [
    {
     "name": "stdout",
     "output_type": "stream",
     "text": [
      "out/image_out_txt.png is saved successfully\n"
     ]
    }
   ],
   "source": [
    "img_path_out = Embed_data_in_img(\n",
    "    img_path=img_path,\n",
    "    img_path_out=img_path_out,\n",
    "    file_path=file_path,\n",
    "    key=key)"
   ]
  },
  {
   "cell_type": "markdown",
   "id": "be144831-8196-4764-bceb-77cac7fcd75b",
   "metadata": {},
   "source": [
    "Extract data from the image and save to a file"
   ]
  },
  {
   "cell_type": "code",
   "execution_count": 5,
   "id": "80546bd4-3c34-40ff-b08c-9e274730e199",
   "metadata": {},
   "outputs": [
    {
     "name": "stdout",
     "output_type": "stream",
     "text": [
      "out/Test_txt_file_out.txt is written successfully\n"
     ]
    },
    {
     "data": {
      "text/plain": [
       "'out/Test_txt_file_out.txt'"
      ]
     },
     "execution_count": 5,
     "metadata": {},
     "output_type": "execute_result"
    }
   ],
   "source": [
    "extract_data_img_save_file(\n",
    "    img_path_out=img_path_out, \n",
    "    file_folder=file_folder_out, \n",
    "    key=key)"
   ]
  },
  {
   "cell_type": "markdown",
   "id": "4cfd4096-0d87-4461-bd08-deeab69abaf8",
   "metadata": {},
   "source": [
    "**Compare the original and extracted text files**"
   ]
  },
  {
   "cell_type": "code",
   "execution_count": 6,
   "id": "a811c1a7-6cbc-4a82-87d5-1382f0b295e0",
   "metadata": {},
   "outputs": [
    {
     "data": {
      "text/plain": [
       "True"
      ]
     },
     "execution_count": 6,
     "metadata": {},
     "output_type": "execute_result"
    }
   ],
   "source": [
    "with open(r'in/Test_txt_file.txt', 'r') as f:\n",
    "    file_txt_in = f.read()\n",
    "    f.close()\n",
    "with open(r'out/Test_txt_file_out.txt', 'r') as f:\n",
    "    file_txt_out = f.read()\n",
    "    f.close()\n",
    "file_txt_in == file_txt_out"
   ]
  },
  {
   "cell_type": "markdown",
   "id": "5e2938e3-c3f0-4736-9b10-dc9d97a82b1f",
   "metadata": {},
   "source": [
    "The original and the extracted text files are the same "
   ]
  },
  {
   "cell_type": "markdown",
   "id": "cea054b9-030a-4249-8163-947a2ba243fc",
   "metadata": {},
   "source": [
    "Compare the text content by print of the original and the extracted text"
   ]
  },
  {
   "cell_type": "code",
   "execution_count": 7,
   "id": "d95b26cb-3444-427e-8294-1fd7ddc0385a",
   "metadata": {},
   "outputs": [
    {
     "name": "stdout",
     "output_type": "stream",
     "text": [
      "Below an example of text file that we can head in the image file\n",
      "\n",
      "Bitcoin Address\n",
      "13daa8SYB8L5b8hcrkBfABskDzju53A3PR\n",
      "Private Key\n",
      "L58FrKEB6p9EMdBWsG5njdLVRnafUJHff3Xz3uy2VMo2GLJU4PAG\n",
      "\n",
      "My PW: JQSqju*/66587sa\n"
     ]
    }
   ],
   "source": [
    "print(file_txt_in)"
   ]
  },
  {
   "cell_type": "code",
   "execution_count": 8,
   "id": "20b4cb14-9d6e-40ed-9a78-50a5cd59003e",
   "metadata": {},
   "outputs": [
    {
     "name": "stdout",
     "output_type": "stream",
     "text": [
      "Below an example of text file that we can head in the image file\n",
      "\n",
      "Bitcoin Address\n",
      "13daa8SYB8L5b8hcrkBfABskDzju53A3PR\n",
      "Private Key\n",
      "L58FrKEB6p9EMdBWsG5njdLVRnafUJHff3Xz3uy2VMo2GLJU4PAG\n",
      "\n",
      "My PW: JQSqju*/66587sa\n"
     ]
    }
   ],
   "source": [
    "print(file_txt_out)"
   ]
  },
  {
   "cell_type": "markdown",
   "id": "e807ebef-570b-48d7-bf31-ad128d6d69ee",
   "metadata": {},
   "source": [
    "___\n",
    "The original text and the extracted are the same"
   ]
  },
  {
   "cell_type": "markdown",
   "id": "7358032d-468f-4869-8a87-9808c78d106d",
   "metadata": {},
   "source": [
    "The original image vs the modified one"
   ]
  },
  {
   "cell_type": "markdown",
   "id": "8dbebf76-7eb2-40c7-824c-2ac35573cb51",
   "metadata": {},
   "source": [
    "<div   style='float: left;width: 33.33%;padding: 5px;'>\n",
    "  <p style=\"text-align:center;\"> Original image </p> \n",
    "  <img src='in/image_in.png'>\n",
    "</div>\n",
    "\n",
    "<div   style='float: left;width: 33.33%;padding: 5px;'>\n",
    "  <p style=\"text-align:center;\"> Image Image with data embedded</p> \n",
    "  <img src='out/image_out_txt.png'>\n",
    "</div>"
   ]
  },
  {
   "cell_type": "markdown",
   "id": "744d24d2-6f5a-4f41-89ae-e0db62583b24",
   "metadata": {},
   "source": [
    "### Test embedding and extract a img file into an image."
   ]
  },
  {
   "cell_type": "markdown",
   "id": "f7e8c350-dd78-432f-921b-ff9d969bceb0",
   "metadata": {},
   "source": [
    "Path of the files and the key of cryptography"
   ]
  },
  {
   "cell_type": "code",
   "execution_count": 9,
   "id": "39f21366-c6ac-438e-abe7-528087566430",
   "metadata": {},
   "outputs": [],
   "source": [
    "img_path = r'in/image_in.png'\n",
    "img_path_out = r'out/image_out_img.png'\n",
    "file_path = r'in/VeKings_NFT.png'\n",
    "file_folder_out = 'out/'\n",
    "key = 'Test*123'"
   ]
  },
  {
   "cell_type": "markdown",
   "id": "f3a8fd30-5616-48de-bccf-344c82b8010a",
   "metadata": {},
   "source": [
    "Embed data in the image"
   ]
  },
  {
   "cell_type": "code",
   "execution_count": 10,
   "id": "da8647e7-ff44-4e20-99f9-0807f1229386",
   "metadata": {},
   "outputs": [
    {
     "name": "stdout",
     "output_type": "stream",
     "text": [
      "out/image_out_img.png is saved successfully\n"
     ]
    }
   ],
   "source": [
    "img_path_out = Embed_data_in_img(\n",
    "    img_path=img_path,\n",
    "    img_path_out=img_path_out,\n",
    "    file_path=file_path,\n",
    "    key=key)"
   ]
  },
  {
   "cell_type": "markdown",
   "id": "005e7a49-3a6e-4fee-a138-17f0e50cc87b",
   "metadata": {},
   "source": [
    "Extract data from the image and save to a file"
   ]
  },
  {
   "cell_type": "code",
   "execution_count": 11,
   "id": "e3cdf25e-0c10-46d0-b556-37d0514c2957",
   "metadata": {},
   "outputs": [
    {
     "name": "stdout",
     "output_type": "stream",
     "text": [
      "out/VeKings_NFT_out.png is written successfully\n"
     ]
    },
    {
     "data": {
      "text/plain": [
       "'out/VeKings_NFT_out.png'"
      ]
     },
     "execution_count": 11,
     "metadata": {},
     "output_type": "execute_result"
    }
   ],
   "source": [
    "extract_data_img_save_file(\n",
    "    img_path_out=img_path_out, \n",
    "    file_folder=file_folder_out, \n",
    "    key=key)"
   ]
  },
  {
   "cell_type": "markdown",
   "id": "68b2a41d-f1d1-4c59-90de-9ce8e0d2dee8",
   "metadata": {},
   "source": [
    "**Compare the original and extracted images**"
   ]
  },
  {
   "cell_type": "code",
   "execution_count": 12,
   "id": "ca88a5b2-00ca-48c5-8030-8b3caafbf484",
   "metadata": {},
   "outputs": [],
   "source": [
    "file_img_in = iio.imread(r'in/VeKings_NFT.png')\n",
    "file_img_out = iio.imread(r'out/VeKings_NFT_out.png')\n",
    "result = np.array_equal(file_img_in, file_img_out)"
   ]
  },
  {
   "cell_type": "markdown",
   "id": "52db914f-2a5c-4c4e-86b7-89c9ed7240d2",
   "metadata": {},
   "source": [
    "<div   style='float: left;width: 33.33%;padding: 5px;'>\n",
    "  <p style=\"text-align:center;\"> Original image </p> \n",
    "  <img src='in/VeKings_NFT.png'>\n",
    "</div>\n",
    "\n",
    "<div   style='float: left;width: 33.33%;padding: 5px;'>\n",
    "  <p style=\"text-align:center;\"> Image Image with data embedded</p> \n",
    "  <img src='out/VeKings_NFT_out.png'>\n",
    "</div>"
   ]
  },
  {
   "cell_type": "markdown",
   "id": "4e388f70-847c-40c0-8e23-8d14dfa670f3",
   "metadata": {},
   "source": [
    "The original image vs the modified one"
   ]
  },
  {
   "cell_type": "markdown",
   "id": "61267655-258a-4768-9518-5485087b805e",
   "metadata": {},
   "source": [
    "<div   style='float: left;width: 33.33%;padding: 5px;'>\n",
    "  <p style=\"text-align:center;\"> Original image </p> \n",
    "  <img src='in/image_in.png'>\n",
    "</div>\n",
    "\n",
    "<div   style='float: left;width: 33.33%;padding: 5px;'>\n",
    "  <p style=\"text-align:center;\"> Image Image with data embedded</p> \n",
    "  <img src='out/image_out_img.png'>\n",
    "</div>"
   ]
  }
 ],
 "metadata": {
  "kernelspec": {
   "display_name": "Python 3 (ipykernel)",
   "language": "python",
   "name": "python3"
  },
  "language_info": {
   "codemirror_mode": {
    "name": "ipython",
    "version": 3
   },
   "file_extension": ".py",
   "mimetype": "text/x-python",
   "name": "python",
   "nbconvert_exporter": "python",
   "pygments_lexer": "ipython3",
   "version": "3.10.5"
  }
 },
 "nbformat": 4,
 "nbformat_minor": 5
}
